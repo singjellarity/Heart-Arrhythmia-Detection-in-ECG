{
 "cells": [
  {
   "cell_type": "code",
   "execution_count": 1,
   "metadata": {},
   "outputs": [],
   "source": [
    "import numpy as np \n",
    "import pandas as pd \n",
    "import os\n",
    "for dirname, _, filenames in os.walk('/kaggle/input'):\n",
    "    for filename in filenames:\n",
    "        print(os.path.join(dirname, filename))"
   ]
  },
  {
   "cell_type": "code",
   "execution_count": 2,
   "metadata": {},
   "outputs": [],
   "source": [
    "from keras import layers\n",
    "from keras.layers import Input, Dense, Dropout, Activation, ZeroPadding2D, BatchNormalization, Flatten, Conv2D, Embedding, Add\n",
    "from keras.layers import Conv1D, GlobalAveragePooling1D, AveragePooling2D, MaxPooling2D, MaxPool1D, ZeroPadding1D, GlobalMaxPooling2D, GlobalAveragePooling2D, LSTM, SpatialDropout1D\n",
    "from keras.models import Sequential, Model\n",
    "from keras.preprocessing import image\n",
    "from tensorflow.keras.utils import plot_model\n",
    "from keras.applications.inception_v3 import InceptionV3\n",
    "from sklearn.model_selection import train_test_split\n",
    "import matplotlib.pyplot as plt\n",
    "from sklearn.metrics import confusion_matrix\n",
    "import seaborn as sns\n",
    "from keras.layers.merge import concatenate"
   ]
  },
  {
   "cell_type": "code",
   "execution_count": 3,
   "metadata": {},
   "outputs": [],
   "source": [
    "import time\n",
    "from datetime import timedelta\n",
    "start_time = time.monotonic()"
   ]
  },
  {
   "cell_type": "code",
   "execution_count": 4,
   "metadata": {},
   "outputs": [],
   "source": [
    "mit_test_data = pd.read_csv('data/mitbih_test.csv', header=None)\n",
    "mit_train_data = pd.read_csv('data/mitbih_train.csv', header=None)"
   ]
  },
  {
   "cell_type": "code",
   "execution_count": 5,
   "metadata": {},
   "outputs": [
    {
     "name": "stdout",
     "output_type": "stream",
     "text": [
      "0    72471\n",
      "4     6431\n",
      "2     5788\n",
      "1     2223\n",
      "3      641\n",
      "Name: 187, dtype: int64\n"
     ]
    }
   ],
   "source": [
    "mit_train_data[187]=mit_train_data[187].astype(int)\n",
    "equilibre=mit_train_data[187].value_counts()\n",
    "print(equilibre)"
   ]
  },
  {
   "cell_type": "code",
   "execution_count": 6,
   "metadata": {},
   "outputs": [],
   "source": [
    "from sklearn.utils import resample\n",
    "df_1=mit_train_data[mit_train_data[187]==1]\n",
    "df_2=mit_train_data[mit_train_data[187]==2]\n",
    "df_3=mit_train_data[mit_train_data[187]==3]\n",
    "df_4=mit_train_data[mit_train_data[187]==4]\n",
    "df_0=(mit_train_data[mit_train_data[187]==0]).sample(n=20000,random_state=42)\n",
    "\n",
    "df_1_upsample=resample(df_1,replace=True,n_samples=20000,random_state=123)\n",
    "df_2_upsample=resample(df_2,replace=True,n_samples=20000,random_state=124)\n",
    "df_3_upsample=resample(df_3,replace=True,n_samples=20000,random_state=125)\n",
    "df_4_upsample=resample(df_4,replace=True,n_samples=20000,random_state=126)\n",
    "\n",
    "mit_train_data=pd.concat([df_0,df_1_upsample,df_2_upsample,df_3_upsample,df_4_upsample])"
   ]
  },
  {
   "cell_type": "code",
   "execution_count": 7,
   "metadata": {},
   "outputs": [
    {
     "name": "stdout",
     "output_type": "stream",
     "text": [
      "4    20000\n",
      "3    20000\n",
      "2    20000\n",
      "1    20000\n",
      "0    20000\n",
      "Name: 187, dtype: int64\n"
     ]
    }
   ],
   "source": [
    "equilibre=mit_train_data[187].value_counts()\n",
    "print(equilibre)"
   ]
  },
  {
   "cell_type": "code",
   "execution_count": 8,
   "metadata": {},
   "outputs": [],
   "source": [
    "from tensorflow.keras.utils import to_categorical\n",
    "X, y = mit_train_data.iloc[: , :-1], mit_train_data.iloc[: , -1] \n",
    "X, valX, y, valy= train_test_split(X,y,test_size=0.2, random_state=27)\n",
    "testX, testy = mit_test_data.iloc[: , :-1], mit_test_data.iloc[: , -1]\n",
    "y = to_categorical(y)\n",
    "testy = to_categorical(testy)\n",
    "valy=to_categorical(valy)"
   ]
  },
  {
   "cell_type": "code",
   "execution_count": 9,
   "metadata": {},
   "outputs": [
    {
     "name": "stdout",
     "output_type": "stream",
     "text": [
      "X shape=(80000, 187)\n",
      "y shape=(80000, 5)\n",
      "valX shape=(20000, 187)\n",
      "valy shape=(20000, 5)\n",
      "testX shape=(21892, 187)\n",
      "testy shape=(21892, 5)\n"
     ]
    }
   ],
   "source": [
    "print(\"X shape=\" +str(X.shape))\n",
    "print(\"y shape=\" +str(y.shape))\n",
    "print(\"valX shape=\" +str(valX.shape))\n",
    "print(\"valy shape=\" +str(valy.shape))\n",
    "print(\"testX shape=\" +str(testX.shape))\n",
    "print(\"testy shape=\" +str(testy.shape))"
   ]
  },
  {
   "cell_type": "code",
   "execution_count": 10,
   "metadata": {},
   "outputs": [],
   "source": [
    "ann_model = Sequential()\n",
    "ann_model.add(Dense(50, activation='relu', input_shape=(187,)))\n",
    "ann_model.add(Dense(50, activation='relu'))\n",
    "ann_model.add(Dense(50, activation='relu'))\n",
    "ann_model.add(Dense(50, activation='relu'))\n",
    "ann_model.add(Dense(5, activation='softmax'))"
   ]
  },
  {
   "cell_type": "code",
   "execution_count": 11,
   "metadata": {},
   "outputs": [],
   "source": [
    "ann_model.compile(optimizer='adam', loss='categorical_crossentropy', metrics=['accuracy'])"
   ]
  },
  {
   "cell_type": "code",
   "execution_count": 12,
   "metadata": {},
   "outputs": [
    {
     "data": {
      "image/png": "[encoded data removed]",
      "text/plain": [
       "<IPython.core.display.Image object>"
      ]
     },
     "execution_count": 12,
     "metadata": {},
     "output_type": "execute_result"
    }
   ],
   "source": [
    "plot_model(ann_model)"
   ]
  },
  {
   "cell_type": "code",
   "execution_count": 13,
   "metadata": {},
   "outputs": [
    {
     "name": "stdout",
     "output_type": "stream",
     "text": [
      "Epoch 1/20\n",
      "2500/2500 [==============================] - 3s 951us/step - loss: 0.4647 - accuracy: 0.8308 - val_loss: 0.3209 - val_accuracy: 0.8796\n",
      "Epoch 2/20\n",
      "2500/2500 [==============================] - 2s 870us/step - loss: 0.2677 - accuracy: 0.9025 - val_loss: 0.2279 - val_accuracy: 0.9205\n",
      "Epoch 3/20\n",
      "2500/2500 [==============================] - 2s 855us/step - loss: 0.2086 - accuracy: 0.9245 - val_loss: 0.1842 - val_accuracy: 0.9355\n",
      "Epoch 4/20\n",
      "2500/2500 [==============================] - 2s 874us/step - loss: 0.1714 - accuracy: 0.9381 - val_loss: 0.1766 - val_accuracy: 0.9362\n",
      "Epoch 5/20\n",
      "2500/2500 [==============================] - 2s 862us/step - loss: 0.1499 - accuracy: 0.9460 - val_loss: 0.1399 - val_accuracy: 0.9491\n",
      "Epoch 6/20\n",
      "2500/2500 [==============================] - 2s 867us/step - loss: 0.1311 - accuracy: 0.9533 - val_loss: 0.1351 - val_accuracy: 0.9506\n",
      "Epoch 7/20\n",
      "2500/2500 [==============================] - 2s 880us/step - loss: 0.1171 - accuracy: 0.9583 - val_loss: 0.1179 - val_accuracy: 0.9598\n",
      "Epoch 8/20\n",
      "2500/2500 [==============================] - 2s 880us/step - loss: 0.1054 - accuracy: 0.9625 - val_loss: 0.1138 - val_accuracy: 0.9586\n",
      "Epoch 9/20\n",
      "2500/2500 [==============================] - 2s 888us/step - loss: 0.0947 - accuracy: 0.9661 - val_loss: 0.1115 - val_accuracy: 0.9650\n",
      "Epoch 10/20\n",
      "2500/2500 [==============================] - 2s 936us/step - loss: 0.0876 - accuracy: 0.9693 - val_loss: 0.0870 - val_accuracy: 0.9717\n",
      "Epoch 11/20\n",
      "2500/2500 [==============================] - 2s 900us/step - loss: 0.0807 - accuracy: 0.9717 - val_loss: 0.1035 - val_accuracy: 0.9647\n",
      "Epoch 12/20\n",
      "2500/2500 [==============================] - 2s 884us/step - loss: 0.0767 - accuracy: 0.9729 - val_loss: 0.0840 - val_accuracy: 0.9718\n",
      "Epoch 13/20\n",
      "2500/2500 [==============================] - 2s 860us/step - loss: 0.0715 - accuracy: 0.9751 - val_loss: 0.1054 - val_accuracy: 0.9650\n",
      "Epoch 14/20\n",
      "2500/2500 [==============================] - 2s 876us/step - loss: 0.0662 - accuracy: 0.9770 - val_loss: 0.0786 - val_accuracy: 0.9747\n",
      "Epoch 15/20\n",
      "2500/2500 [==============================] - 2s 887us/step - loss: 0.0633 - accuracy: 0.9777 - val_loss: 0.1043 - val_accuracy: 0.9656\n",
      "Epoch 16/20\n",
      "2500/2500 [==============================] - 2s 900us/step - loss: 0.0596 - accuracy: 0.9791 - val_loss: 0.0681 - val_accuracy: 0.9779\n",
      "Epoch 17/20\n",
      "2500/2500 [==============================] - 2s 880us/step - loss: 0.0571 - accuracy: 0.9804 - val_loss: 0.0704 - val_accuracy: 0.9760\n",
      "Epoch 18/20\n",
      "2500/2500 [==============================] - 2s 904us/step - loss: 0.0540 - accuracy: 0.9819 - val_loss: 0.0850 - val_accuracy: 0.9733\n",
      "Epoch 19/20\n",
      "2500/2500 [==============================] - 2s 892us/step - loss: 0.0541 - accuracy: 0.9815 - val_loss: 0.0631 - val_accuracy: 0.9811\n",
      "Epoch 20/20\n",
      "2500/2500 [==============================] - 2s 908us/step - loss: 0.0492 - accuracy: 0.9824 - val_loss: 0.0840 - val_accuracy: 0.9717\n"
     ]
    }
   ],
   "source": [
    "ann_model_history = ann_model.fit(X,y ,validation_data=(valX,valy ), epochs=20)\n"
   ]
  },
  {
   "cell_type": "code",
   "execution_count": 14,
   "metadata": {},
   "outputs": [
    {
     "data": {
      "text/plain": [
       "Text(0, 0.5, 'Accuracy')"
      ]
     },
     "execution_count": 14,
     "metadata": {},
     "output_type": "execute_result"
    },
    {
     "data": {
      "image/png": "[encoded data removed]",
      "text/plain": [
       "<Figure size 432x288 with 1 Axes>"
      ]
     },
     "metadata": {
      "needs_background": "light"
     },
     "output_type": "display_data"
    }
   ],
   "source": [
    "plt.plot(ann_model_history.history['accuracy'])\n",
    "plt.plot(ann_model_history.history['val_accuracy'])\n",
    "plt.legend([\"accuracy\",\"val_accuracy\"])\n",
    "plt.xlabel('Epoch')\n",
    "plt.ylabel('Accuracy')"
   ]
  },
  {
   "cell_type": "code",
   "execution_count": 15,
   "metadata": {},
   "outputs": [
    {
     "data": {
      "text/plain": [
       "Text(0, 0.5, 'Loss')"
      ]
     },
     "execution_count": 15,
     "metadata": {},
     "output_type": "execute_result"
    },
    {
     "data": {
      "image/png": "[encoded data removed]",
      "text/plain": [
       "<Figure size 432x288 with 1 Axes>"
      ]
     },
     "metadata": {
      "needs_background": "light"
     },
     "output_type": "display_data"
    }
   ],
   "source": [
    "plt.plot(ann_model_history.history['loss'])\n",
    "plt.plot(ann_model_history.history['val_loss'])\n",
    "plt.legend([\"loss\",\"val_loss\"])\n",
    "plt.xlabel('Epoch')\n",
    "plt.ylabel('Loss')"
   ]
  },
  {
   "cell_type": "code",
   "execution_count": 16,
   "metadata": {},
   "outputs": [],
   "source": [
    "y_true=[]\n",
    "for element in testy:\n",
    "    y_true.append(np.argmax(element))\n",
    "prediction_proba=ann_model.predict(testX)\n",
    "prediction=np.argmax(prediction_proba,axis=1)"
   ]
  },
  {
   "cell_type": "code",
   "execution_count": 18,
   "metadata": {},
   "outputs": [
    {
     "name": "stdout",
     "output_type": "stream",
     "text": [
      "              precision    recall  f1-score   support\n",
      "\n",
      "           0       0.99      0.93      0.96     18118\n",
      "           1       0.43      0.82      0.56       556\n",
      "           2       0.85      0.95      0.89      1448\n",
      "           3       0.33      0.88      0.48       162\n",
      "           4       0.90      0.98      0.94      1608\n",
      "\n",
      "   micro avg       0.93      0.93      0.93     21892\n",
      "   macro avg       0.70      0.91      0.77     21892\n",
      "weighted avg       0.96      0.93      0.94     21892\n",
      "\n"
     ]
    }
   ],
   "source": [
    "import pandas as pd\n",
    "import numpy as np\n",
    "import matplotlib.pyplot as plt\n",
    "import seaborn as sns\n",
    "%matplotlib inline\n",
    "from sklearn.metrics import classification_report,confusion_matrix, accuracy_score\n",
    "print(classification_report(y_true,prediction))"
   ]
  },
  {
   "cell_type": "code",
   "execution_count": 19,
   "metadata": {},
   "outputs": [
    {
     "data": {
      "text/plain": [
       "0.3219897679517632"
      ]
     },
     "execution_count": 19,
     "metadata": {},
     "output_type": "execute_result"
    }
   ],
   "source": [
    "from sklearn.metrics import mean_squared_error\n",
    "mean_squared_error(y_true, prediction)"
   ]
  },
  {
   "cell_type": "code",
   "execution_count": 20,
   "metadata": {},
   "outputs": [
    {
     "name": "stdout",
     "output_type": "stream",
     "text": [
      "0:00:52.500000\n"
     ]
    }
   ],
   "source": [
    "end_time = time.monotonic()\n",
    "print(timedelta(seconds=end_time - start_time))"
   ]
  },
  {
   "cell_type": "code",
   "execution_count": 21,
   "metadata": {},
   "outputs": [],
   "source": [
    "def evaluate_model(ann_model_history,testX,testy,history):\n",
    "    scores = model.evaluate((testX),testy, verbose=0)\n",
    "    print(\"Accuracy: %.2f%%\" % (scores[1]*100))\n",
    "    \n",
    "    print(history)\n",
    "    fig1, ax_acc = plt.subplots()\n",
    "    plt.plot(ann_model_history.history['accuracy'])\n",
    "    plt.plot(ann_model_history.history['val_accuracy'])\n",
    "    plt.xlabel('Epoch')\n",
    "    plt.ylabel('Accuracy')\n",
    "    plt.title('Model - Accuracy')\n",
    "    plt.legend(['Training', 'Validation'], loc='lower right')\n",
    "    plt.show()\n",
    "    \n",
    "    fig2, ax_loss = plt.subplots()\n",
    "    plt.xlabel('Epoch')\n",
    "    plt.ylabel('Loss')\n",
    "    plt.title('Model- Loss')\n",
    "    plt.legend(['Training', 'Validation'], loc='upper right')\n",
    "    plt.plot(ann_model_history.history['loss'])\n",
    "    plt.plot(ann_model_history.history['val_loss'])\n",
    "    plt.show()\n",
    "    target_names=['0','1','2','3','4']\n",
    "    \n",
    "    y_true=[]\n",
    "    for element in y_test:\n",
    "        y_true.append(np.argmax(element))\n",
    "    prediction_proba=model.predict(testX)\n",
    "    prediction=np.argmax(prediction_proba,axis=1)\n",
    "    cnf_matrix = confusion_matrix(y_true, prediction)\n",
    "    "
   ]
  },
  {
   "cell_type": "code",
   "execution_count": 22,
   "metadata": {},
   "outputs": [
    {
     "name": "stdout",
     "output_type": "stream",
     "text": [
      "Normalized confusion matrix\n"
     ]
    },
    {
     "data": {
      "image/png": "[encoded data removed]",
      "text/plain": [
       "<Figure size 720x720 with 2 Axes>"
      ]
     },
     "metadata": {
      "needs_background": "light"
     },
     "output_type": "display_data"
    }
   ],
   "source": [
    "import itertools\n",
    "def plot_confusion_matrix(cm, classes,\n",
    "                          normalize=True,\n",
    "                          title='Confusion matrix',\n",
    "                          cmap=plt.cm.Blues):\n",
    "    \"\"\"\n",
    "    This function prints and plots the confusion matrix.\n",
    "    Normalization can be applied by setting `normalize=True`.\n",
    "    \"\"\"\n",
    "    if normalize:\n",
    "        cm = cm.astype('float') / cm.sum(axis=1)[:, np.newaxis]\n",
    "        print(\"Normalized confusion matrix\")\n",
    "    else:\n",
    "        print('Confusion matrix, without normalization')\n",
    "\n",
    "    plt.imshow(cm, interpolation='nearest', cmap=cmap)\n",
    "    plt.title(title)\n",
    "    plt.colorbar()\n",
    "    tick_marks = np.arange(len(classes))\n",
    "    plt.xticks(tick_marks, classes, rotation=45)\n",
    "    plt.yticks(tick_marks, classes)\n",
    "\n",
    "    fmt = '.2f' if normalize else 'd'\n",
    "    thresh = cm.max() / 2.\n",
    "    for i, j in itertools.product(range(cm.shape[0]), range(cm.shape[1])):\n",
    "        plt.text(j, i, format(cm[i, j], fmt),\n",
    "                 horizontalalignment=\"center\",\n",
    "                 color=\"white\" if cm[i, j] > thresh else \"black\")\n",
    "\n",
    "    plt.tight_layout()\n",
    "    plt.ylabel('True label')\n",
    "    plt.xlabel('Predicted label')\n",
    "\n",
    "# Compute confusion matrix\n",
    "cnf_matrix = confusion_matrix(y_true, prediction)\n",
    "np.set_printoptions(precision=2)\n",
    "\n",
    "# Plot non-normalized confusion matrix\n",
    "plt.figure(figsize=(10, 10))\n",
    "plot_confusion_matrix(cnf_matrix, classes=['N', 'S', 'V', 'F', 'Q'],normalize=True,\n",
    "                      title='Confusion matrix, with normalization')\n",
    "plt.show()\n",
    "\n"
   ]
  },
  {
   "cell_type": "code",
   "execution_count": null,
   "metadata": {},
   "outputs": [],
   "source": []
  }
 ],
 "metadata": {
  "kernelspec": {
   "display_name": "Python 3 (ipykernel)",
   "language": "python",
   "name": "python3"
  },
  "language_info": {
   "codemirror_mode": {
    "name": "ipython",
    "version": 3
   },
   "file_extension": ".py",
   "mimetype": "text/x-python",
   "name": "python",
   "nbconvert_exporter": "python",
   "pygments_lexer": "ipython3",
   "version": "3.11.3"
  }
 },
 "nbformat": 4,
 "nbformat_minor": 4
}
