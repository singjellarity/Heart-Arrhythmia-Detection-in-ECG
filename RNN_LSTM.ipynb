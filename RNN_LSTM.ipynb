{
 "cells": [
  {
   "cell_type": "code",
   "execution_count": 1,
   "metadata": {},
   "outputs": [],
   "source": [
    "import numpy as np # linear algebra\n",
    "import pandas as pd # data processing, CSV file I/O (e.g. pd.read_csv)\n",
    "import os\n",
    "for dirname, _, filenames in os.walk('/kaggle/input'):\n",
    "    for filename in filenames:\n",
    "        print(os.path.join(dirname, filename))"
   ]
  },
  {
   "cell_type": "code",
   "execution_count": 2,
   "metadata": {},
   "outputs": [],
   "source": [
    "from keras import layers\n",
    "from keras.layers import Input, Dense, Dropout, Activation, ZeroPadding2D, BatchNormalization, Flatten, Conv2D, Embedding, Add\n",
    "from keras.layers import Conv1D, GlobalAveragePooling1D, AveragePooling2D, MaxPooling2D, MaxPool1D, ZeroPadding1D, GlobalMaxPooling2D, GlobalAveragePooling2D, LSTM, SpatialDropout1D\n",
    "from keras.models import Sequential, Model\n",
    "from keras.preprocessing import image\n",
    "from tensorflow.keras.utils import plot_model\n",
    "from keras.applications.inception_v3 import InceptionV3\n",
    "from sklearn.model_selection import train_test_split\n",
    "import matplotlib.pyplot as plt\n",
    "from sklearn.metrics import confusion_matrix\n",
    "import seaborn as sns\n",
    "from keras.layers.merge import concatenate"
   ]
  },
  {
   "cell_type": "code",
   "execution_count": 3,
   "metadata": {},
   "outputs": [],
   "source": [
    "import time\n",
    "from datetime import timedelta\n",
    "start_time = time.monotonic()"
   ]
  },
  {
   "cell_type": "code",
   "execution_count": 4,
   "metadata": {},
   "outputs": [],
   "source": [
    "mit_test_data = pd.read_csv('data/mitbih_test.csv', header=None)\n",
    "mit_train_data = pd.read_csv('data/mitbih_train.csv', header=None)"
   ]
  },
  {
   "cell_type": "code",
   "execution_count": 5,
   "metadata": {},
   "outputs": [
    {
     "name": "stdout",
     "output_type": "stream",
     "text": [
      "0    72471\n",
      "4     6431\n",
      "2     5788\n",
      "1     2223\n",
      "3      641\n",
      "Name: 187, dtype: int64\n"
     ]
    }
   ],
   "source": [
    "mit_train_data[187]=mit_train_data[187].astype(int)\n",
    "equilibre=mit_train_data[187].value_counts()\n",
    "print(equilibre)"
   ]
  },
  {
   "cell_type": "code",
   "execution_count": 6,
   "metadata": {},
   "outputs": [],
   "source": [
    "from sklearn.utils import resample\n",
    "df_1=mit_train_data[mit_train_data[187]==1]\n",
    "df_2=mit_train_data[mit_train_data[187]==2]\n",
    "df_3=mit_train_data[mit_train_data[187]==3]\n",
    "df_4=mit_train_data[mit_train_data[187]==4]\n",
    "df_0=(mit_train_data[mit_train_data[187]==0]).sample(n=20000,random_state=42)\n",
    "\n",
    "df_1_upsample=resample(df_1,replace=True,n_samples=20000,random_state=123)\n",
    "df_2_upsample=resample(df_2,replace=True,n_samples=20000,random_state=124)\n",
    "df_3_upsample=resample(df_3,replace=True,n_samples=20000,random_state=125)\n",
    "df_4_upsample=resample(df_4,replace=True,n_samples=20000,random_state=126)\n",
    "\n",
    "mit_train_data=pd.concat([df_0,df_1_upsample,df_2_upsample,df_3_upsample,df_4_upsample])"
   ]
  },
  {
   "cell_type": "code",
   "execution_count": 7,
   "metadata": {},
   "outputs": [
    {
     "name": "stdout",
     "output_type": "stream",
     "text": [
      "4    20000\n",
      "3    20000\n",
      "2    20000\n",
      "1    20000\n",
      "0    20000\n",
      "Name: 187, dtype: int64\n"
     ]
    }
   ],
   "source": [
    "equilibre=mit_train_data[187].value_counts()\n",
    "print(equilibre)\n"
   ]
  },
  {
   "cell_type": "code",
   "execution_count": 8,
   "metadata": {},
   "outputs": [],
   "source": [
    "lstm_model = Sequential()\n",
    "lstm_model.add(LSTM(64, input_shape=(187,1)))\n",
    "lstm_model.add(Dense(128, activation = 'relu'))\n",
    "lstm_model.add(Dropout(0.3))\n",
    "lstm_model.add(Dense(5, activation = 'softmax'))"
   ]
  },
  {
   "cell_type": "code",
   "execution_count": 9,
   "metadata": {},
   "outputs": [
    {
     "name": "stdout",
     "output_type": "stream",
     "text": [
      "Model: \"sequential\"\n",
      "_________________________________________________________________\n",
      "Layer (type)                 Output Shape              Param #   \n",
      "=================================================================\n",
      "lstm (LSTM)                  (None, 64)                16896     \n",
      "_________________________________________________________________\n",
      "dense (Dense)                (None, 128)               8320      \n",
      "_________________________________________________________________\n",
      "dropout (Dropout)            (None, 128)               0         \n",
      "_________________________________________________________________\n",
      "dense_1 (Dense)              (None, 5)                 645       \n",
      "=================================================================\n",
      "Total params: 25,861\n",
      "Trainable params: 25,861\n",
      "Non-trainable params: 0\n",
      "_________________________________________________________________\n"
     ]
    }
   ],
   "source": [
    "lstm_model.summary()"
   ]
  },
  {
   "cell_type": "code",
   "execution_count": 10,
   "metadata": {},
   "outputs": [
    {
     "data": {
      "image/png": "[encoded data removed]",
      "text/plain": [
       "<IPython.core.display.Image object>"
      ]
     },
     "execution_count": 10,
     "metadata": {},
     "output_type": "execute_result"
    }
   ],
   "source": [
    "plot_model(lstm_model)"
   ]
  },
  {
   "cell_type": "code",
   "execution_count": 11,
   "metadata": {},
   "outputs": [],
   "source": [
    "lstm_model.compile(optimizer='adam', loss='categorical_crossentropy', metrics=['accuracy'])"
   ]
  },
  {
   "cell_type": "code",
   "execution_count": 12,
   "metadata": {},
   "outputs": [],
   "source": [
    "from tensorflow.keras.utils import to_categorical\n",
    "X, y = mit_train_data.iloc[: , :-1], mit_train_data.iloc[: , -1]\n",
    "X, valX, y, valy= train_test_split(X,y,test_size=0.2)\n",
    "testX, testy = mit_test_data.iloc[: , :-1], mit_test_data.iloc[: , -1]\n",
    "y = to_categorical(y)\n",
    "testy = to_categorical(testy)\n",
    "valy=to_categorical(valy)"
   ]
  },
  {
   "cell_type": "code",
   "execution_count": 13,
   "metadata": {},
   "outputs": [
    {
     "name": "stdout",
     "output_type": "stream",
     "text": [
      "(100000, 187, 1)\n",
      "(21892, 187, 1)\n",
      "(100000, 5)\n",
      "(21892, 5)\n"
     ]
    }
   ],
   "source": [
    "from sklearn.utils import shuffle\n",
    "mit_train_data[187] = mit_train_data[187].astype('int32')\n",
    "mit_test_data[187] = mit_test_data[187].astype('int32')\n",
    "X_train = np.array(mit_train_data.iloc[:, :187])\n",
    "X_test = np.array(mit_test_data.iloc[:, :187])\n",
    "y_train = np.array(mit_train_data[187])\n",
    "y_test = np.array(mit_test_data[187])\n",
    "X_train, y_train = shuffle(X_train, y_train, random_state = 101)\n",
    "X_test, y_test = shuffle(X_test, y_test, random_state = 101)\n",
    "X_train = np.expand_dims(X_train, 2)\n",
    "X_test = np.expand_dims(X_test, 2)\n",
    "y_train = to_categorical(y_train)\n",
    "y_test = to_categorical(y_test)\n",
    "print(X_train.shape)\n",
    "print(X_test.shape)\n",
    "print(y_train.shape)\n",
    "print(y_test.shape)"
   ]
  },
  {
   "cell_type": "code",
   "execution_count": 14,
   "metadata": {},
   "outputs": [
    {
     "name": "stdout",
     "output_type": "stream",
     "text": [
      "Epoch 1/20\n",
      "1000/1000 [==============================] - 96s 95ms/step - loss: 1.1396 - accuracy: 0.5371 - val_loss: 1.2630 - val_accuracy: 0.5087\n",
      "Epoch 2/20\n",
      "1000/1000 [==============================] - 94s 94ms/step - loss: 0.8727 - accuracy: 0.6774 - val_loss: 1.1244 - val_accuracy: 0.5665\n",
      "Epoch 3/20\n",
      "1000/1000 [==============================] - 99s 99ms/step - loss: 0.7928 - accuracy: 0.7097 - val_loss: 0.8497 - val_accuracy: 0.7286\n",
      "Epoch 4/20\n",
      "1000/1000 [==============================] - 105s 105ms/step - loss: 0.7420 - accuracy: 0.7335 - val_loss: 0.8627 - val_accuracy: 0.7132\n",
      "Epoch 5/20\n",
      "1000/1000 [==============================] - 104s 104ms/step - loss: 0.7093 - accuracy: 0.7447 - val_loss: 0.8863 - val_accuracy: 0.6975\n",
      "Epoch 6/20\n",
      "1000/1000 [==============================] - 105s 105ms/step - loss: 0.6714 - accuracy: 0.7590 - val_loss: 0.6984 - val_accuracy: 0.7795\n",
      "Epoch 7/20\n",
      "1000/1000 [==============================] - 104s 104ms/step - loss: 0.6429 - accuracy: 0.7717 - val_loss: 0.8052 - val_accuracy: 0.7283\n",
      "Epoch 8/20\n",
      "1000/1000 [==============================] - 109s 109ms/step - loss: 0.6039 - accuracy: 0.7869 - val_loss: 0.7729 - val_accuracy: 0.7486\n",
      "Epoch 9/20\n",
      "1000/1000 [==============================] - 104s 104ms/step - loss: 0.5798 - accuracy: 0.7960 - val_loss: 0.9282 - val_accuracy: 0.6933\n",
      "Epoch 10/20\n",
      "1000/1000 [==============================] - 105s 105ms/step - loss: 0.5333 - accuracy: 0.8127 - val_loss: 0.7960 - val_accuracy: 0.7314\n",
      "Epoch 11/20\n",
      "1000/1000 [==============================] - 99s 99ms/step - loss: 0.5038 - accuracy: 0.8199 - val_loss: 0.5833 - val_accuracy: 0.8405\n",
      "Epoch 12/20\n",
      "1000/1000 [==============================] - 99s 99ms/step - loss: 0.4734 - accuracy: 0.8282 - val_loss: 0.7036 - val_accuracy: 0.7938\n",
      "Epoch 13/20\n",
      "1000/1000 [==============================] - 104s 104ms/step - loss: 0.4413 - accuracy: 0.8395 - val_loss: 0.7317 - val_accuracy: 0.7556\n",
      "Epoch 14/20\n",
      "1000/1000 [==============================] - 104s 104ms/step - loss: 0.4233 - accuracy: 0.8454 - val_loss: 0.5075 - val_accuracy: 0.8636\n",
      "Epoch 15/20\n",
      "1000/1000 [==============================] - 101s 101ms/step - loss: 0.3986 - accuracy: 0.8544 - val_loss: 0.5395 - val_accuracy: 0.8340\n",
      "Epoch 16/20\n",
      "1000/1000 [==============================] - 107s 107ms/step - loss: 0.3692 - accuracy: 0.8667 - val_loss: 0.5537 - val_accuracy: 0.8160\n",
      "Epoch 17/20\n",
      "1000/1000 [==============================] - 102s 102ms/step - loss: 0.3520 - accuracy: 0.8736 - val_loss: 0.4518 - val_accuracy: 0.8484\n",
      "Epoch 18/20\n",
      "1000/1000 [==============================] - 103s 103ms/step - loss: 0.3325 - accuracy: 0.8803 - val_loss: 0.4486 - val_accuracy: 0.8495\n",
      "Epoch 19/20\n",
      "1000/1000 [==============================] - 101s 101ms/step - loss: 0.3163 - accuracy: 0.8872 - val_loss: 0.4474 - val_accuracy: 0.8701\n",
      "Epoch 20/20\n",
      "1000/1000 [==============================] - 101s 101ms/step - loss: 0.3053 - accuracy: 0.8906 - val_loss: 0.3864 - val_accuracy: 0.8717\n"
     ]
    }
   ],
   "source": [
    "lstm_model_history = lstm_model.fit(X_train, y_train, epochs = 20, batch_size = 100, validation_data = (X_test, y_test))"
   ]
  },
  {
   "cell_type": "code",
   "execution_count": 15,
   "metadata": {},
   "outputs": [
    {
     "data": {
      "text/plain": [
       "Text(0, 0.5, 'Accuracy')"
      ]
     },
     "execution_count": 15,
     "metadata": {},
     "output_type": "execute_result"
    },
    {
     "data": {
      "image/png": "[encoded data removed]",
      "text/plain": [
       "<Figure size 432x288 with 1 Axes>"
      ]
     },
     "metadata": {
      "needs_background": "light"
     },
     "output_type": "display_data"
    }
   ],
   "source": [
    "plt.plot(lstm_model_history.history['accuracy'])\n",
    "plt.plot(lstm_model_history.history['val_accuracy'])\n",
    "plt.legend([\"accuracy\",\"val_accuracy\"])\n",
    "plt.xlabel('Epoch')\n",
    "plt.ylabel('Accuracy')"
   ]
  },
  {
   "cell_type": "code",
   "execution_count": 16,
   "metadata": {},
   "outputs": [
    {
     "data": {
      "text/plain": [
       "Text(0, 0.5, 'Loss')"
      ]
     },
     "execution_count": 16,
     "metadata": {},
     "output_type": "execute_result"
    },
    {
     "data": {
      "image/png": "[encoded data removed]",
      "text/plain": [
       "<Figure size 432x288 with 1 Axes>"
      ]
     },
     "metadata": {
      "needs_background": "light"
     },
     "output_type": "display_data"
    }
   ],
   "source": [
    "plt.plot(lstm_model_history.history['loss'])\n",
    "plt.plot(lstm_model_history.history['val_loss'])\n",
    "plt.legend([\"loss\",\"val_loss\"])\n",
    "plt.xlabel('Epoch')\n",
    "plt.ylabel('Loss')"
   ]
  },
  {
   "cell_type": "code",
   "execution_count": 17,
   "metadata": {},
   "outputs": [],
   "source": [
    "y_true=[]\n",
    "for element in y_test:\n",
    "    y_true.append(np.argmax(element))\n",
    "prediction_proba=lstm_model.predict(X_test)\n",
    "prediction=np.argmax(prediction_proba,axis=1)"
   ]
  },
  {
   "cell_type": "code",
   "execution_count": 18,
   "metadata": {},
   "outputs": [
    {
     "name": "stdout",
     "output_type": "stream",
     "text": [
      "              precision    recall  f1-score   support\n",
      "\n",
      "           0       0.99      0.87      0.92     18118\n",
      "           1       0.26      0.78      0.39       556\n",
      "           2       0.71      0.89      0.79      1448\n",
      "           3       0.18      0.86      0.29       162\n",
      "           4       0.89      0.96      0.92      1608\n",
      "\n",
      "   micro avg       0.87      0.87      0.87     21892\n",
      "   macro avg       0.60      0.87      0.66     21892\n",
      "weighted avg       0.94      0.87      0.90     21892\n",
      "\n"
     ]
    }
   ],
   "source": [
    "import pandas as pd\n",
    "import numpy as np\n",
    "import matplotlib.pyplot as plt\n",
    "import seaborn as sns\n",
    "%matplotlib inline\n",
    "from sklearn.metrics import classification_report,confusion_matrix, accuracy_score\n",
    "print(classification_report(y_true,prediction))"
   ]
  },
  {
   "cell_type": "code",
   "execution_count": 19,
   "metadata": {},
   "outputs": [
    {
     "data": {
      "text/plain": [
       "0.5627626530239357"
      ]
     },
     "execution_count": 19,
     "metadata": {},
     "output_type": "execute_result"
    }
   ],
   "source": [
    "from sklearn.metrics import mean_squared_error\n",
    "mean_squared_error(y_true, prediction)"
   ]
  },
  {
   "cell_type": "code",
   "execution_count": 20,
   "metadata": {},
   "outputs": [],
   "source": [
    "def evaluate_model(lstm_model_history,testX,testy,history):\n",
    "    scores = model.evaluate((testX),testy, verbose=0)\n",
    "    print(\"Accuracy: %.2f%%\" % (scores[1]*100))\n",
    "    \n",
    "    print(history)\n",
    "    fig1, ax_acc = plt.subplots()\n",
    "    plt.plot(lstm_model_history.history['accuracy'])\n",
    "    plt.plot(lstm_model_history.history['val_accuracy'])\n",
    "    plt.xlabel('Epoch')\n",
    "    plt.ylabel('Accuracy')\n",
    "    plt.title('Model - Accuracy')\n",
    "    plt.legend(['Training', 'Validation'], loc='lower right')\n",
    "    plt.show()\n",
    "    \n",
    "    fig2, ax_loss = plt.subplots()\n",
    "    plt.xlabel('Epoch')\n",
    "    plt.ylabel('Loss')\n",
    "    plt.title('Model- Loss')\n",
    "    plt.legend(['Training', 'Validation'], loc='upper right')\n",
    "    plt.plot(lstm_model_history.history['loss'])\n",
    "    plt.plot(lstm_model_history.history['val_loss'])\n",
    "    plt.show()\n",
    "    target_names=['0','1','2','3','4']\n",
    "    \n",
    "    y_true=[]\n",
    "    for element in y_test:\n",
    "        y_true.append(np.argmax(element))\n",
    "    prediction_proba=model.predict(testX)\n",
    "    prediction=np.argmax(prediction_proba,axis=1)\n",
    "    cnf_matrix = confusion_matrix(y_true, prediction)\n",
    "    "
   ]
  },
  {
   "cell_type": "code",
   "execution_count": 21,
   "metadata": {},
   "outputs": [
    {
     "name": "stdout",
     "output_type": "stream",
     "text": [
      "Normalized confusion matrix\n"
     ]
    },
    {
     "data": {
      "image/png": "[encoded data removed]",
      "text/plain": [
       "<Figure size 720x720 with 2 Axes>"
      ]
     },
     "metadata": {
      "needs_background": "light"
     },
     "output_type": "display_data"
    }
   ],
   "source": [
    "import itertools\n",
    "def plot_confusion_matrix(cm, classes,\n",
    "                          normalize=True,\n",
    "                          title='Confusion matrix',\n",
    "                          cmap=plt.cm.Blues):\n",
    "    \"\"\"\n",
    "    This function prints and plots the confusion matrix.\n",
    "    Normalization can be applied by setting `normalize=True`.\n",
    "    \"\"\"\n",
    "    if normalize:\n",
    "        cm = cm.astype('float') / cm.sum(axis=1)[:, np.newaxis]\n",
    "        print(\"Normalized confusion matrix\")\n",
    "    else:\n",
    "        print('Confusion matrix, without normalization')\n",
    "\n",
    "    plt.imshow(cm, interpolation='nearest', cmap=cmap)\n",
    "    plt.title(title)\n",
    "    plt.colorbar()\n",
    "    tick_marks = np.arange(len(classes))\n",
    "    plt.xticks(tick_marks, classes, rotation=45)\n",
    "    plt.yticks(tick_marks, classes)\n",
    "\n",
    "    fmt = '.2f' if normalize else 'd'\n",
    "    thresh = cm.max() / 2.\n",
    "    for i, j in itertools.product(range(cm.shape[0]), range(cm.shape[1])):\n",
    "        plt.text(j, i, format(cm[i, j], fmt),\n",
    "                 horizontalalignment=\"center\",\n",
    "                 color=\"white\" if cm[i, j] > thresh else \"black\")\n",
    "\n",
    "    plt.tight_layout()\n",
    "    plt.ylabel('True label')\n",
    "    plt.xlabel('Predicted label')\n",
    "\n",
    "# Compute confusion matrix\n",
    "cnf_matrix = confusion_matrix(y_true, prediction)\n",
    "np.set_printoptions(precision=2)\n",
    "\n",
    "# Plot non-normalized confusion matrix\n",
    "plt.figure(figsize=(10, 10))\n",
    "plot_confusion_matrix(cnf_matrix, classes=['N', 'S', 'V', 'F', 'Q'],normalize=True,\n",
    "                      title='Confusion matrix, with normalization')\n",
    "plt.show()\n",
    "\n"
   ]
  },
  {
   "cell_type": "code",
   "execution_count": 22,
   "metadata": {},
   "outputs": [
    {
     "name": "stdout",
     "output_type": "stream",
     "text": [
      "0:34:26.250000\n"
     ]
    }
   ],
   "source": [
    "end_time = time.monotonic()\n",
    "print(timedelta(seconds=end_time - start_time))"
   ]
  },
  {
   "cell_type": "code",
   "execution_count": null,
   "metadata": {},
   "outputs": [],
   "source": []
  }
 ],
 "metadata": {
  "kernelspec": {
   "display_name": "Python 3 (ipykernel)",
   "language": "python",
   "name": "python3"
  },
  "language_info": {
   "codemirror_mode": {
    "name": "ipython",
    "version": 3
   },
   "file_extension": ".py",
   "mimetype": "text/x-python",
   "name": "python",
   "nbconvert_exporter": "python",
   "pygments_lexer": "ipython3",
   "version": "3.11.3"
  }
 },
 "nbformat": 4,
 "nbformat_minor": 4
}
